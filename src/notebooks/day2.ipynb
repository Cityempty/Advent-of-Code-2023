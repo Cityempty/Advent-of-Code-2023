{
 "cells": [
  {
   "cell_type": "code",
   "execution_count": 10,
   "metadata": {},
   "outputs": [],
   "source": [
    "#imports\n",
    "import re"
   ]
  },
  {
   "cell_type": "code",
   "execution_count": 14,
   "metadata": {},
   "outputs": [],
   "source": [
    "#load file\n",
    "input = open(\"./../../data/day_2/input.txt\", \"r\").readlines()"
   ]
  },
  {
   "cell_type": "code",
   "execution_count": 20,
   "metadata": {},
   "outputs": [],
   "source": [
    "#process input\n",
    "\n",
    "def process_draw_results(raw):\n",
    "    draw = {}\n",
    "    for color in raw:\n",
    "        m = re.search(\"([0-9]+)(blue|red|green)\", color)\n",
    "        draw[m.group(2)] = int(m.group(1))\n",
    "    return draw\n",
    "\n",
    "games = {}\n",
    "for line in input:\n",
    "    line = line.replace(\" \",\"\")\n",
    "    split = line.split(\":\")\n",
    "    game_id = int(re.search(\"[a-z]*([0-9]+)\", split[0]).group(1))\n",
    "    draws = split[1].split(\";\")\n",
    "    draws = [process_draw_results(draw.split(\",\")) for draw in draws]\n",
    "    games[game_id] = draws"
   ]
  },
  {
   "cell_type": "code",
   "execution_count": 22,
   "metadata": {},
   "outputs": [
    {
     "name": "stdout",
     "output_type": "stream",
     "text": [
      "Part 1: 2149\n"
     ]
    }
   ],
   "source": [
    "#compute part 1\n",
    "bag = {\"red\":12,\"green\":13,\"blue\":14}\n",
    "\n",
    "games_max_draw = {}\n",
    "for id,draws in games.items():\n",
    "    games_max_draw[id] = {}\n",
    "    for color in bag.keys():\n",
    "        max = 0\n",
    "        for draw in draws:\n",
    "            if color in draw and draw[color] > max:\n",
    "                max = draw[color]\n",
    "        games_max_draw[id][color] = max\n",
    "\n",
    "possible_game_ids = []\n",
    "for id,draws in games_max_draw.items():\n",
    "    possible = True\n",
    "    for color in bag.keys():\n",
    "        if draws[color] > bag[color]:\n",
    "            possible = False\n",
    "    if possible:\n",
    "        possible_game_ids.append(id)\n",
    "\n",
    "sum_ids = sum(possible_game_ids)\n",
    "print(f\"Part 1: {sum_ids}\")\n",
    "        "
   ]
  },
  {
   "cell_type": "code",
   "execution_count": 24,
   "metadata": {},
   "outputs": [
    {
     "name": "stdout",
     "output_type": "stream",
     "text": [
      "Part 2: 71274\n"
     ]
    }
   ],
   "source": [
    "#compute part 2\n",
    "game_power = []\n",
    "for id,draws in games_max_draw.items():\n",
    "    power = draws[\"red\"] * draws[\"green\"] * draws[\"blue\"]\n",
    "    game_power.append(power)\n",
    "\n",
    "sum_ids_2 = sum(game_power)\n",
    "print(f\"Part 2: {sum_ids_2}\")\n",
    "        "
   ]
  }
 ],
 "metadata": {
  "kernelspec": {
   "display_name": "DL",
   "language": "python",
   "name": "python3"
  },
  "language_info": {
   "codemirror_mode": {
    "name": "ipython",
    "version": 3
   },
   "file_extension": ".py",
   "mimetype": "text/x-python",
   "name": "python",
   "nbconvert_exporter": "python",
   "pygments_lexer": "ipython3",
   "version": "3.11.3"
  }
 },
 "nbformat": 4,
 "nbformat_minor": 2
}
