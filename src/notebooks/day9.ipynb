{
 "cells": [
  {
   "cell_type": "code",
   "execution_count": null,
   "metadata": {},
   "outputs": [],
   "source": [
    "#imports"
   ]
  },
  {
   "cell_type": "code",
   "execution_count": 11,
   "metadata": {},
   "outputs": [],
   "source": [
    "#load small input\n",
    "input = open(\"./../../data/day_9/small_input.txt\", \"r\").readlines()"
   ]
  },
  {
   "cell_type": "code",
   "execution_count": 20,
   "metadata": {},
   "outputs": [],
   "source": [
    "#load  input\n",
    "input = open(\"./../../data/day_9/input.txt\", \"r\").readlines()"
   ]
  },
  {
   "cell_type": "code",
   "execution_count": 21,
   "metadata": {},
   "outputs": [],
   "source": [
    "#process input\n",
    "sequences = []\n",
    "for line in input:\n",
    "    sequences.append([int(x) for x in line.strip().split()])"
   ]
  },
  {
   "cell_type": "code",
   "execution_count": 22,
   "metadata": {},
   "outputs": [
    {
     "name": "stdout",
     "output_type": "stream",
     "text": [
      "Part 1: 1898776583\n"
     ]
    }
   ],
   "source": [
    "#part 1\n",
    "extrapolated_vals = []\n",
    "for sequence in sequences:\n",
    "    subs = [sequence]\n",
    "    dists = sequence\n",
    "    while not all([x == dists[0] for x in dists]):\n",
    "        new =  []\n",
    "        for i in range(len(dists)-1):\n",
    "            new.append(dists[i+1] - dists[i])\n",
    "        dists = new\n",
    "        subs.append(new)\n",
    "    extrapolated = 0\n",
    "    for sub in subs:\n",
    "        extrapolated += sub[-1]\n",
    "    extrapolated_vals.append(extrapolated)\n",
    "\n",
    "sum_extrapolated = sum(extrapolated_vals)\n",
    "print(f\"Part 1: {sum_extrapolated}\")\n",
    "    "
   ]
  },
  {
   "cell_type": "code",
   "execution_count": 23,
   "metadata": {},
   "outputs": [
    {
     "name": "stdout",
     "output_type": "stream",
     "text": [
      "Part 2: 1100\n"
     ]
    }
   ],
   "source": [
    "#part 2\n",
    "extrapolated_vals = []\n",
    "for sequence in sequences:\n",
    "    subs = [sequence]\n",
    "    dists = sequence\n",
    "    while not all([x == dists[0] for x in dists]):\n",
    "        new =  []\n",
    "        for i in range(len(dists)-1):\n",
    "            new.append(dists[i+1] - dists[i])\n",
    "        dists = new\n",
    "        subs.append(new)\n",
    "    extrapolated = 0\n",
    "    for sub in subs.__reversed__():\n",
    "        extrapolated = sub[0] - extrapolated\n",
    "    extrapolated_vals.append(extrapolated)\n",
    "\n",
    "sum_extrapolated = sum(extrapolated_vals)\n",
    "print(f\"Part 2: {sum_extrapolated}\")\n",
    "    "
   ]
  }
 ],
 "metadata": {
  "kernelspec": {
   "display_name": "DL",
   "language": "python",
   "name": "python3"
  },
  "language_info": {
   "codemirror_mode": {
    "name": "ipython",
    "version": 3
   },
   "file_extension": ".py",
   "mimetype": "text/x-python",
   "name": "python",
   "nbconvert_exporter": "python",
   "pygments_lexer": "ipython3",
   "version": "3.11.3"
  }
 },
 "nbformat": 4,
 "nbformat_minor": 2
}
