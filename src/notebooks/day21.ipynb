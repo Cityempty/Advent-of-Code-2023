{
 "cells": [
  {
   "cell_type": "code",
   "execution_count": 1,
   "metadata": {},
   "outputs": [],
   "source": [
    "#imports\n",
    "import numpy as np"
   ]
  },
  {
   "cell_type": "code",
   "execution_count": 14,
   "metadata": {},
   "outputs": [],
   "source": [
    "#load small input\n",
    "input = open(\"./../../data/day_21/small_input.txt\", \"r\").readlines()"
   ]
  },
  {
   "cell_type": "code",
   "execution_count": 2,
   "metadata": {},
   "outputs": [],
   "source": [
    "#load input\n",
    "input = open(\"./../../data/day_21/input.txt\", \"r\").readlines()"
   ]
  },
  {
   "cell_type": "code",
   "execution_count": 3,
   "metadata": {},
   "outputs": [],
   "source": [
    "#process input\n",
    "arr = np.zeros((len(input), len(input[0].strip())), dtype=bool)\n",
    "for i,line in enumerate(input):\n",
    "    for j,char in enumerate(line.strip()):\n",
    "        match char:\n",
    "            case \".\":\n",
    "                arr[i,j] = True\n",
    "            case \"#\":\n",
    "                arr[i,j] = False\n",
    "            case \"S\":\n",
    "                start = (i,j)\n",
    "                arr[i,j] = True\n",
    "            case _:\n",
    "                print(f\"Error, unexpected character {char}\")"
   ]
  },
  {
   "cell_type": "code",
   "execution_count": 35,
   "metadata": {},
   "outputs": [
    {
     "name": "stdout",
     "output_type": "stream",
     "text": [
      "Part 1: 3632\n"
     ]
    }
   ],
   "source": [
    "#part 1\n",
    "def get_neighbours(pos,matrix_shape):\n",
    "    x,y = pos\n",
    "    xm,ym = matrix_shape\n",
    "    neighbours = []\n",
    "    if x > 0:\n",
    "        neighbours.append((x-1,y))\n",
    "    if y > 0:\n",
    "        neighbours.append((x,y-1))\n",
    "    if x < xm-1:\n",
    "        neighbours.append((x+1,y))\n",
    "    if y < ym-1:\n",
    "        neighbours.append((x,y+1))\n",
    "    return neighbours\n",
    "\n",
    "reachable_in_steps = [[start]]\n",
    "for i in range(64):\n",
    "    s = reachable_in_steps[-1]\n",
    "    reachable = {}\n",
    "    for pos in s:\n",
    "        for n in get_neighbours(pos,arr.shape):\n",
    "            if arr[n] and n not in reachable:\n",
    "                reachable[n] = True\n",
    "    reachable_in_steps.append(reachable)\n",
    "\n",
    "result = len(reachable_in_steps[-1])\n",
    "print(f\"Part 1: {result}\")\n"
   ]
  },
  {
   "cell_type": "code",
   "execution_count": 36,
   "metadata": {},
   "outputs": [
    {
     "name": "stdout",
     "output_type": "stream",
     "text": [
      "7354 reachable in even steps, 7315 reachable in odd steps\n"
     ]
    }
   ],
   "source": [
    "#part 2 \n",
    "def map_to_arr_pos(pos, shape):\n",
    "    x,y = pos\n",
    "    if x >= 0 and y >= 0 and x <= shape[0]-1 and y <= shape[1]-1:\n",
    "        return (x,y)\n",
    "    else:\n",
    "        if x >= 0:\n",
    "            x = x % shape[0]\n",
    "        else:\n",
    "            x = (shape[0] - (abs(x) % shape[0])) % shape[0]\n",
    "        if y >= 0:\n",
    "            y = y % shape[1]\n",
    "        else:\n",
    "            y = (shape[1] - (abs(y) % shape[1])) % shape[1]\n",
    "        return (x,y)\n",
    "\n",
    "def get_neighbours_nocheck(pos):\n",
    "    x,y = pos\n",
    "    neighbours = []\n",
    "    neighbours.append((x-1,y))\n",
    "    neighbours.append((x,y-1))\n",
    "    neighbours.append((x+1,y))\n",
    "    neighbours.append((x,y+1))\n",
    "    return neighbours\n",
    "\n",
    "def get_reachable(start_pos, steps):\n",
    "    reachable_in_steps = [[start_pos]]\n",
    "    for i in range(steps):\n",
    "        s = reachable_in_steps[-1]\n",
    "        reachable = {}\n",
    "        for pos in s:\n",
    "            for n in get_neighbours(pos,arr.shape):\n",
    "                if arr[n]:\n",
    "                    if n not in reachable:\n",
    "                        reachable[n] = 1\n",
    "        reachable_in_steps.append( list(reachable.keys()) )\n",
    "    return reachable_in_steps\n",
    "\n",
    "reachable_in_steps = get_reachable(start, 300)\n",
    "reachable_even = len(reachable_in_steps[-1])\n",
    "reachable_odd = len(reachable_in_steps[-2])\n",
    "print(f\"{reachable_even} reachable in even steps, {reachable_odd} reachable in odd steps\")\n",
    "\n",
    "\n"
   ]
  },
  {
   "cell_type": "code",
   "execution_count": 37,
   "metadata": {},
   "outputs": [],
   "source": [
    "#calculate reachable points for partial grids at the border\n",
    "w = arr.shape[0]\n",
    "s = start[0]\n",
    "reachable_top = get_reachable((w-1,start[1]), w-1)\n",
    "reachable_top = len(reachable_top[-1])\n",
    "\n",
    "reachable_bottom = get_reachable((0,start[1]), w-1)\n",
    "reachable_bottom = len(reachable_bottom[-1])\n",
    "\n",
    "reachable_left = get_reachable((start[0],w-1), w-1)\n",
    "reachable_left = len(reachable_left[-1])\n",
    "\n",
    "reachable_right = get_reachable((start[0],0), w-1)\n",
    "reachable_right = len(reachable_right[-1])\n",
    "\n",
    "#small grid partials\n",
    "reachable_small_tr = get_reachable((w-1,0), w//2 -1)\n",
    "reachable_small_tr = len(reachable_small_tr[-1])\n",
    "\n",
    "reachable_small_br = get_reachable((0,0), w//2 -1)\n",
    "reachable_small_br = len(reachable_small_br[-1])\n",
    "\n",
    "reachable_small_tl = get_reachable((w-1,w-1), w//2 -1)\n",
    "reachable_small_tl = len(reachable_small_tl[-1])\n",
    "\n",
    "reachable_small_bl = get_reachable((0,w-1), w//2 -1)\n",
    "reachable_small_bl = len(reachable_small_bl[-1])\n",
    "\n",
    "#large grid partials\n",
    "reachable_large_tr = get_reachable((w-1,0), w*3//2 -1)\n",
    "reachable_large_tr = len(reachable_large_tr[-1])\n",
    "\n",
    "reachable_large_br = get_reachable((0,0), w*3//2 -1)\n",
    "reachable_large_br = len(reachable_large_br[-1])\n",
    "\n",
    "reachable_large_tl = get_reachable((w-1,w-1), w*3//2 -1)\n",
    "reachable_large_tl = len(reachable_large_tl[-1])\n",
    "\n",
    "reachable_large_bl = get_reachable((0,w-1), w*3//2 -1)\n",
    "reachable_large_bl = len(reachable_large_bl[-1])\n"
   ]
  },
  {
   "cell_type": "code",
   "execution_count": 38,
   "metadata": {},
   "outputs": [
    {
     "name": "stdout",
     "output_type": "stream",
     "text": [
      "Result of part 2: 600336060511101\n"
     ]
    }
   ],
   "source": [
    "#calculate accessible grids, inspired by https://www.youtube.com/watch?v=9UOMZSL0JTg&t=450s&ab_channel=HyperNeutrino\n",
    "total_steps = 26501365\n",
    "\n",
    "grid_size = arr.shape[0]\n",
    "reachable_grid_centers_per_dir = total_steps // grid_size -1\n",
    "reachable_grids_odd = (reachable_grid_centers_per_dir // 2 * 2 + 1) ** 2\n",
    "reachable_grids_even = ((reachable_grid_centers_per_dir+1) // 2  * 2) ** 2\n",
    "reachable_grids_small = reachable_grid_centers_per_dir + 1\n",
    "reachable_grids_large = reachable_grid_centers_per_dir\n",
    "\n",
    "\n",
    "points_even = reachable_even * reachable_grids_even\n",
    "points_odd = reachable_odd * reachable_grids_odd\n",
    "small_points = reachable_grids_small * (reachable_small_tr + reachable_small_br + reachable_small_tl + reachable_small_bl)\n",
    "large_points = reachable_grids_large * (reachable_large_tr + reachable_large_br + reachable_large_tl + reachable_large_bl)\n",
    "\n",
    "\n",
    "\n",
    "result = points_even + points_odd + reachable_top + reachable_bottom + reachable_left + reachable_right + small_points + large_points\n",
    "print(f\"Result of part 2: {result}\")"
   ]
  }
 ],
 "metadata": {
  "kernelspec": {
   "display_name": "DL",
   "language": "python",
   "name": "python3"
  },
  "language_info": {
   "codemirror_mode": {
    "name": "ipython",
    "version": 3
   },
   "file_extension": ".py",
   "mimetype": "text/x-python",
   "name": "python",
   "nbconvert_exporter": "python",
   "pygments_lexer": "ipython3",
   "version": "3.11.3"
  }
 },
 "nbformat": 4,
 "nbformat_minor": 2
}
