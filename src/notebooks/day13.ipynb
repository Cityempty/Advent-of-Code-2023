{
 "cells": [
  {
   "cell_type": "code",
   "execution_count": 4,
   "metadata": {},
   "outputs": [],
   "source": [
    "#imports\n",
    "import numpy as np"
   ]
  },
  {
   "cell_type": "code",
   "execution_count": 46,
   "metadata": {},
   "outputs": [],
   "source": [
    "#load small input\n",
    "input = open(\"./../../data/day_13/small_input.txt\", \"r\").readlines()"
   ]
  },
  {
   "cell_type": "code",
   "execution_count": 57,
   "metadata": {},
   "outputs": [],
   "source": [
    "#load input\n",
    "input = open(\"./../../data/day_13/input.txt\", \"r\").readlines()"
   ]
  },
  {
   "cell_type": "code",
   "execution_count": 58,
   "metadata": {},
   "outputs": [],
   "source": [
    "#process input\n",
    "patterns = []\n",
    "pattern_lines = [[]]\n",
    "for line in input:\n",
    "    if line == \"\\n\":\n",
    "        pattern_lines.append([])\n",
    "    else:\n",
    "        pattern_lines[-1].append(line.strip())\n",
    "for pattern in pattern_lines:\n",
    "    arr = np.zeros((len(pattern), len(pattern[0])), dtype=int)\n",
    "    for i, line in enumerate(pattern):\n",
    "        for j, char in enumerate(line):\n",
    "            if char == \"#\":\n",
    "                arr[i,j] = 1\n",
    "            elif char == \".\":\n",
    "                arr[i,j] = 0\n",
    "            else:\n",
    "                print(f\"Error: unknown char {char}\")\n",
    "    patterns.append(arr)\n"
   ]
  },
  {
   "cell_type": "code",
   "execution_count": 36,
   "metadata": {},
   "outputs": [],
   "source": [
    "#part 1\n",
    "def horizontal_mirror(pattern):\n",
    "    for i in range(1, pattern.shape[0]):\n",
    "        if i <= pattern.shape[0]//2:\n",
    "            up = pattern[:i,:]\n",
    "            down = pattern[i:i+i,:]\n",
    "            down = np.flip(down, axis=0)\n",
    "        else:\n",
    "            down = pattern[i:,:]\n",
    "            up = pattern[(i-down.shape[0]):i,:]\n",
    "            down = np.flip(down, axis=0)\n",
    "\n",
    "        if np.array_equal(up, down):\n",
    "            return i\n",
    "    return None\n",
    "\n",
    "def vertical_mirror(pattern):\n",
    "    for i in range(1, pattern.shape[1]):\n",
    "        if i <= pattern.shape[1]//2:\n",
    "            left = pattern[:,:i]\n",
    "            right = pattern[:,i:i+i]\n",
    "            right = np.flip(right, axis=1)\n",
    "        else:\n",
    "            right = pattern[:,i:i+i]\n",
    "            left = pattern[:,(i-right.shape[1]):i]\n",
    "            right = np.flip(right, axis=1)\n",
    "\n",
    "        if np.array_equal(left, right):\n",
    "            return i\n",
    "    return None\n"
   ]
  },
  {
   "cell_type": "code",
   "execution_count": 37,
   "metadata": {},
   "outputs": [
    {
     "name": "stdout",
     "output_type": "stream",
     "text": [
      "Part 1: 37113\n"
     ]
    }
   ],
   "source": [
    "# compute part 1 result\n",
    "values = []\n",
    "for i,pattern in enumerate(patterns):\n",
    "    h = horizontal_mirror(pattern)\n",
    "    if h is not None:\n",
    "        values.append(100*h)\n",
    "    else:\n",
    "        v = vertical_mirror(pattern)\n",
    "        if v is not None:\n",
    "            values.append(v)\n",
    "        else:\n",
    "            print(f\"Error: no mirror found for pattern {i}\")\n",
    "\n",
    "result = sum(values)\n",
    "print(f\"Part 1: {result}\")"
   ]
  },
  {
   "cell_type": "code",
   "execution_count": 59,
   "metadata": {},
   "outputs": [],
   "source": [
    "# part 2\n",
    "def horizontal_mirror(pattern):\n",
    "    for i in range(1, pattern.shape[0]):\n",
    "        if i <= pattern.shape[0]//2:\n",
    "            up = pattern[:i,:]\n",
    "            down = pattern[i:i+i,:]\n",
    "            down = np.flip(down, axis=0)\n",
    "        else:\n",
    "            down = pattern[i:,:]\n",
    "            up = pattern[(i-down.shape[0]):i,:]\n",
    "            down = np.flip(down, axis=0)\n",
    "\n",
    "        #print(f\"sum at {i}: {np.sum(up != down)}\")\n",
    "\n",
    "        if np.abs(np.sum(up != down)) == 1:\n",
    "            return i\n",
    "    return None\n",
    "\n",
    "def vertical_mirror(pattern):\n",
    "    for i in range(1, pattern.shape[1]):\n",
    "        if i <= pattern.shape[1]//2:\n",
    "            left = pattern[:,:i]\n",
    "            right = pattern[:,i:i+i]\n",
    "            right = np.flip(right, axis=1)\n",
    "        else:\n",
    "            right = pattern[:,i:i+i]\n",
    "            left = pattern[:,(i-right.shape[1]):i]\n",
    "            right = np.flip(right, axis=1)\n",
    "\n",
    "        #print(f\"sum at {i}: {np.sum(left != right)}\")\n",
    "        if np.abs(np.sum(left != right)) == 1:\n",
    "            return i\n",
    "    return None"
   ]
  },
  {
   "cell_type": "code",
   "execution_count": 55,
   "metadata": {},
   "outputs": [
    {
     "name": "stdout",
     "output_type": "stream",
     "text": [
      "sum at 1: 1\n",
      "test: 1\n",
      "sum at 1: 3\n",
      "sum at 2: 7\n",
      "sum at 3: 3\n",
      "sum at 4: 17\n",
      "sum at 5: 11\n",
      "sum at 6: 15\n",
      "sum at 7: 2\n",
      "sum at 8: 5\n",
      "test: None\n"
     ]
    }
   ],
   "source": [
    "#test\n",
    "test = horizontal_mirror(patterns[1])\n",
    "print(f\"test: {test}\")\n",
    "test = vertical_mirror(patterns[1])\n",
    "print(f\"test: {test}\")"
   ]
  },
  {
   "cell_type": "code",
   "execution_count": 60,
   "metadata": {},
   "outputs": [
    {
     "name": "stdout",
     "output_type": "stream",
     "text": [
      "Part 2: 30449\n"
     ]
    }
   ],
   "source": [
    "# compute part 1 result\n",
    "values = []\n",
    "for i,pattern in enumerate(patterns):\n",
    "    h = horizontal_mirror(pattern)\n",
    "    if h is not None:\n",
    "        values.append(100*h)\n",
    "    else:\n",
    "        v = vertical_mirror(pattern)\n",
    "        if v is not None:\n",
    "            values.append(v)\n",
    "        else:\n",
    "            print(f\"Error: no mirror found for pattern {i}\")\n",
    "\n",
    "result = sum(values)\n",
    "print(f\"Part 2: {result}\")"
   ]
  }
 ],
 "metadata": {
  "kernelspec": {
   "display_name": "DL",
   "language": "python",
   "name": "python3"
  },
  "language_info": {
   "codemirror_mode": {
    "name": "ipython",
    "version": 3
   },
   "file_extension": ".py",
   "mimetype": "text/x-python",
   "name": "python",
   "nbconvert_exporter": "python",
   "pygments_lexer": "ipython3",
   "version": "3.11.3"
  }
 },
 "nbformat": 4,
 "nbformat_minor": 2
}
