{
 "cells": [
  {
   "cell_type": "code",
   "execution_count": 1,
   "metadata": {},
   "outputs": [],
   "source": [
    "#imports\n",
    "import numpy as np"
   ]
  },
  {
   "cell_type": "code",
   "execution_count": 55,
   "metadata": {},
   "outputs": [],
   "source": [
    "#load small input\n",
    "input = open(\"./../../data/day_23/small_input.txt\", \"r\").readlines()"
   ]
  },
  {
   "cell_type": "code",
   "execution_count": 78,
   "metadata": {},
   "outputs": [],
   "source": [
    "#load input\n",
    "input = open(\"./../../data/day_23/input.txt\", \"r\").readlines()"
   ]
  },
  {
   "cell_type": "code",
   "execution_count": 79,
   "metadata": {},
   "outputs": [],
   "source": [
    "#process input\n",
    "layout = np.zeros((len(input), len(input[0].strip())), dtype=np.int8)\n",
    "for i,line in enumerate(input):\n",
    "    for j,char in enumerate(line.strip()):\n",
    "        match char:\n",
    "            case \"#\": layout[i,j] = 1\n",
    "            case \".\":\n",
    "                if i == 0:\n",
    "                    start_position = (0,j)\n",
    "                elif i == len(input)-1:\n",
    "                    end_position = (len(input)-1,j)\n",
    "            case \">\": layout[i,j] = 2\n",
    "            case \"v\": layout[i,j] = 3\n",
    "            case \"<\": layout[i,j] = 4\n",
    "            case \"^\": layout[i,j] = 5"
   ]
  },
  {
   "cell_type": "code",
   "execution_count": 80,
   "metadata": {},
   "outputs": [
    {
     "name": "stdout",
     "output_type": "stream",
     "text": [
      "Part 1: 2306\n"
     ]
    }
   ],
   "source": [
    "#part 1\n",
    "def get_neighbours(pos,shape,cont = None):\n",
    "    neighbours = []\n",
    "    x,y = pos\n",
    "    xm,ym = shape\n",
    "    if cont == 0: cont = None\n",
    "    if cont is None:\n",
    "        if x > 0:\n",
    "            neighbours.append((x-1,y))\n",
    "        if y > 0:\n",
    "            neighbours.append((x,y-1))\n",
    "        if x < xm-1:\n",
    "            neighbours.append((x+1,y))\n",
    "        if y < ym-1:\n",
    "            neighbours.append((x,y+1))\n",
    "    else:\n",
    "        match cont:\n",
    "            case 2:\n",
    "                if y < ym-1:\n",
    "                    neighbours.append((x,y+1))\n",
    "            case 3:\n",
    "                if x < xm-1:\n",
    "                    neighbours.append((x+1,y))\n",
    "            case 4:\n",
    "                if y > 0:\n",
    "                    neighbours.append((x,y-1))\n",
    "            case 5:\n",
    "                if x > 0:\n",
    "                    neighbours.append((x-1,y))\n",
    "                \n",
    "    return neighbours\n",
    "\n",
    "cache_neighbours = {}\n",
    "for x in range(layout.shape[0]):\n",
    "    for y in range(layout.shape[1]):\n",
    "        cache_neighbours[(x,y)] = get_neighbours((x,y),layout.shape,cont=layout[x,y])\n",
    "\n",
    "\n",
    "\n",
    "path_lengths_to_target = []\n",
    "def find_longest_path(start,target,layout,cache_neighbours, visited, out):\n",
    "    if start == target:\n",
    "        return\n",
    "    visited[start] = True\n",
    "    neighbours = cache_neighbours[start]\n",
    "    for n in neighbours:\n",
    "        if layout[n] == 1:\n",
    "            continue\n",
    "        if n == target:\n",
    "            out.append(len(visited))\n",
    "            continue\n",
    "        if n not in visited:\n",
    "            find_longest_path(n,target,layout,cache_neighbours, {k:v for k,v in visited.items()}, out)\n",
    "        #simply continue if the position was already visited\n",
    "            \n",
    "find_longest_path(start_position,end_position,layout,cache_neighbours,{},path_lengths_to_target)\n",
    "\n",
    "result = max(path_lengths_to_target)\n",
    "print(f\"Part 1: {result}\")\n",
    "\n"
   ]
  },
  {
   "cell_type": "code",
   "execution_count": null,
   "metadata": {},
   "outputs": [],
   "source": []
  },
  {
   "cell_type": "code",
   "execution_count": 58,
   "metadata": {},
   "outputs": [
    {
     "name": "stdout",
     "output_type": "stream",
     "text": [
      "Part 2: 154\n"
     ]
    }
   ],
   "source": [
    "# part 2\n",
    "import sys\n",
    "sys.setrecursionlimit(100000)\n",
    "##remap layout\n",
    "layout2 = np.copy(layout)\n",
    "layout2[layout2 >= 2] = 0\n",
    "\n",
    "cache_neighbours2 = {}\n",
    "for x in range(layout2.shape[0]):\n",
    "    for y in range(layout2.shape[1]):\n",
    "        cache_neighbours2[(x,y)] = get_neighbours((x,y),layout2.shape,cont=layout2[x,y])\n",
    "\n",
    "path_lengths_to_target2 = []\n",
    "find_longest_path(start_position,end_position,layout2,cache_neighbours2,{},path_lengths_to_target2)\n",
    "\n",
    "result2 = max(path_lengths_to_target2)\n",
    "print(f\"Part 2: {result2}\")"
   ]
  },
  {
   "cell_type": "code",
   "execution_count": 84,
   "metadata": {},
   "outputs": [
    {
     "name": "stdout",
     "output_type": "stream",
     "text": [
      "Part 2: 6718\n"
     ]
    }
   ],
   "source": [
    "##improve speed by lowering search space\n",
    "\n",
    "layout2 = np.copy(layout)\n",
    "layout2[layout2 >= 2] = 0\n",
    "\n",
    "cache_neighbours2 = {}\n",
    "for x in range(layout2.shape[0]):\n",
    "    for y in range(layout2.shape[1]):\n",
    "        neighbours = get_neighbours((x,y),layout2.shape,cont=layout2[x,y])\n",
    "        valid_neighbours = [n for n in neighbours if layout2[n]==0]\n",
    "        cache_neighbours2[(x,y)] = valid_neighbours\n",
    "\n",
    "\n",
    "\n",
    "\n",
    "#find all intersections\n",
    "intersections = {}\n",
    "for x in range(layout2.shape[0]):\n",
    "    for y in range(layout2.shape[1]):\n",
    "        neighbours = cache_neighbours2[(x,y)]\n",
    "        if len(neighbours) > 2:\n",
    "            intersections[(x,y)] = neighbours\n",
    "intersections[start_position] = cache_neighbours2[start_position]\n",
    "intersections[end_position] = cache_neighbours2[end_position]\n",
    "\n",
    "#find the lengths of the direct paths between connected intersections\n",
    "intersection_connections =  {k:{} for k in intersections}\n",
    "for start in intersections:\n",
    "    for n in cache_neighbours2[start]:\n",
    "        visited = {start: True}\n",
    "        q = [n]\n",
    "        while q:\n",
    "            current = q.pop(0)\n",
    "            visited[current] = True\n",
    "            if current in intersections:\n",
    "                intersection_connections[start][current] = len(visited)-1\n",
    "                intersection_connections[current][start] = len(visited)-1\n",
    "                break\n",
    "            else:\n",
    "                neighbours = cache_neighbours2[current]\n",
    "                for n in neighbours:\n",
    "                    if n not in visited:\n",
    "                        q.append(n)\n",
    "\n",
    "# for k,v in intersection_connections.items():\n",
    "#     for k2,v2 in v.items():\n",
    "#         print(f\"{k} -> {k2}: {v2}\")\n",
    "\n",
    "def find_longest_path2(start,target,layout,intersection_connections, visited, out):\n",
    "    if start == target:\n",
    "        return\n",
    "    visited[start] = True\n",
    "    neighbours = intersection_connections[start].keys()\n",
    "    for n in neighbours:\n",
    "        if n == target:\n",
    "            path = list(visited.keys())\n",
    "            path.append(target)\n",
    "            out.append(path)\n",
    "            ##output because of long exec time\n",
    "            path_length = 0\n",
    "\n",
    "            continue\n",
    "        if n not in visited:\n",
    "            find_longest_path2(n,target,layout,intersection_connections, {k:v for k,v in visited.items()}, out)\n",
    "        #simply continue if the position was already visited\n",
    "            \n",
    "\n",
    "paths_to_target = []\n",
    "find_longest_path2(start_position,end_position,layout2,intersection_connections,{},paths_to_target)\n",
    "\n",
    "path_lengths_to_target2 = []\n",
    "for path in paths_to_target:\n",
    "    path_length = 0\n",
    "    for i in range(len(path)-1):\n",
    "        p1,p2 = path[i],path[i+1]\n",
    "        dist = intersection_connections[p1][p2]\n",
    "        path_length += dist\n",
    "    path_lengths_to_target2.append(path_length)\n",
    "\n",
    "result2 = max(path_lengths_to_target2) #remove the start and end position\n",
    "print(f\"Part 2: {result2}\")\n",
    "    \n",
    "\n"
   ]
  }
 ],
 "metadata": {
  "kernelspec": {
   "display_name": "DL",
   "language": "python",
   "name": "python3"
  },
  "language_info": {
   "codemirror_mode": {
    "name": "ipython",
    "version": 3
   },
   "file_extension": ".py",
   "mimetype": "text/x-python",
   "name": "python",
   "nbconvert_exporter": "python",
   "pygments_lexer": "ipython3",
   "version": "3.11.3"
  }
 },
 "nbformat": 4,
 "nbformat_minor": 2
}
