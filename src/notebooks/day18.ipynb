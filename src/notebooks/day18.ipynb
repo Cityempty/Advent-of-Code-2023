{
 "cells": [
  {
   "cell_type": "code",
   "execution_count": 5,
   "metadata": {},
   "outputs": [],
   "source": [
    "#imports\n",
    "import numpy as np"
   ]
  },
  {
   "cell_type": "code",
   "execution_count": 26,
   "metadata": {},
   "outputs": [],
   "source": [
    "#load small input\n",
    "input = open(\"./../../data/day_18/small_input.txt\", \"r\").readlines()"
   ]
  },
  {
   "cell_type": "code",
   "execution_count": 38,
   "metadata": {},
   "outputs": [],
   "source": [
    "#load input\n",
    "input = open(\"./../../data/day_18/input.txt\", \"r\").readlines()"
   ]
  },
  {
   "cell_type": "code",
   "execution_count": 39,
   "metadata": {},
   "outputs": [],
   "source": [
    "#process input\n",
    "instructions = []\n",
    "for line in input:\n",
    "    line = line.strip()\n",
    "    d,l,c = line.split()\n",
    "    instructions.append( (d,int(l),c.replace(\"(\",\"\").replace(\")\",\"\") ) )"
   ]
  },
  {
   "cell_type": "code",
   "execution_count": 17,
   "metadata": {},
   "outputs": [
    {
     "name": "stdout",
     "output_type": "stream",
     "text": [
      "min_x: 0\n",
      "max_x: 9\n",
      "min_y: 0\n",
      "max_y: 6\n"
     ]
    }
   ],
   "source": [
    "# part 1\n",
    "trench_positions =  []\n",
    "trench_colors = []\n",
    "pos = (0,0)\n",
    "dir = 3 # 0 = right, 1 = down, 2 = left, 3 = up (global)\n",
    "trench_positions.append(pos)\n",
    "for instruction in instructions:\n",
    "    match instruction[0]:\n",
    "        case \"R\": dir = 0\n",
    "        case \"D\": dir = 1\n",
    "        case \"L\": dir = 2\n",
    "        case \"U\": dir = 3\n",
    "    for i in range(instruction[1]):\n",
    "        match dir:\n",
    "            case 0: pos = (pos[0],pos[1]+1)\n",
    "            case 1: pos = (pos[0]+1,pos[1])\n",
    "            case 2: pos = (pos[0],pos[1]-1)\n",
    "            case 3: pos = (pos[0]-1,pos[1])\n",
    "        trench_positions.append(pos)\n",
    "        trench_colors.append(instruction[2])\n",
    "\n",
    "# translate into array\n",
    "min_x = min([pos[0] for pos in trench_positions])\n",
    "print(f\"min_x: {min_x}\")\n",
    "max_x = max([pos[0] for pos in trench_positions])\n",
    "print(f\"max_x: {max_x}\")\n",
    "min_y = min([pos[1] for pos in trench_positions])\n",
    "print(f\"min_y: {min_y}\")\n",
    "max_y = max([pos[1] for pos in trench_positions])\n",
    "print(f\"max_y: {max_y}\")\n",
    "\n",
    "arr = np.zeros((max_x-min_x+1,max_y-min_y+1),dtype=int)\n",
    "for pos in trench_positions:\n",
    "    arr[pos[0]+abs(min_x),pos[1]+abs(min_y)] = 1\n",
    "\n",
    "#add margin\n",
    "arr = np.pad(arr,((1,1),(1,1)), 'constant')"
   ]
  },
  {
   "cell_type": "code",
   "execution_count": 18,
   "metadata": {},
   "outputs": [
    {
     "name": "stdout",
     "output_type": "stream",
     "text": [
      "part 1: 62\n"
     ]
    }
   ],
   "source": [
    "#compute part 1 with bfs\n",
    "#perform bfs\n",
    "visited = np.zeros(arr.shape, dtype=bool)\n",
    "visited[0,0] = True\n",
    "\n",
    "def get_neighbours(pos,matrix_shape):\n",
    "    x,y = pos\n",
    "    xm,ym = matrix_shape\n",
    "    neighbours = []\n",
    "    if x > 0:\n",
    "        neighbours.append((x-1,y))\n",
    "    if y > 0:\n",
    "        neighbours.append((x,y-1))\n",
    "    if x < xm-1:\n",
    "        neighbours.append((x+1,y))\n",
    "    if y < ym-1:\n",
    "        neighbours.append((x,y+1))\n",
    "    return neighbours\n",
    "\n",
    "queue = [(0,0)]\n",
    "while len(queue) > 0:\n",
    "    x,y = queue.pop(0)\n",
    "    for nx,ny in get_neighbours((x,y), arr.shape):\n",
    "        if (not visited[nx,ny]) and (arr[nx,ny] == 0): #for some reason accessing expanded_p here returns an int instead of some string type, therefore the check works with == 0 instead of == '0'\n",
    "            visited[nx,ny] = True\n",
    "            queue.append((nx,ny))    \n",
    "#count tiles\n",
    "enclosed = 0\n",
    "for i in range(visited.shape[0]):\n",
    "    for j in range(visited.shape[1]):\n",
    "        if not visited[i,j]:\n",
    "            enclosed += 1\n",
    "\n",
    "print(f\"part 1: {enclosed}\")"
   ]
  },
  {
   "cell_type": "code",
   "execution_count": 40,
   "metadata": {},
   "outputs": [],
   "source": [
    "#part 2\n",
    "##switch to shoelace theorem because my computer does not have 1.3tb of RAM :(\n",
    "trench_positions =  []\n",
    "trench_colors = []\n",
    "pos = (0,0)\n",
    "dir = 3 # 0 = right, 1 = down, 2 = left, 3 = up (global)\n",
    "trench_positions.append(pos)\n",
    "perimeter = 0\n",
    "for instruction in instructions:\n",
    "    #recalculate instruction from hexadecimal\n",
    "    length = instruction[2][1:-1]\n",
    "    length = int(length,16)\n",
    "    perimeter += length\n",
    "\n",
    "    dir = int(instruction[2][-1])\n",
    "\n",
    "    match dir:\n",
    "        case 0: pos = (pos[0],pos[1]+length)\n",
    "        case 1: pos = (pos[0]+length,pos[1])\n",
    "        case 2: pos = (pos[0],pos[1]-length)\n",
    "        case 3: pos = (pos[0]-length,pos[1])\n",
    "\n",
    "    trench_positions.append(pos)\n",
    "\n",
    "# trench positions are now corners which can be used for shoelace theorem"
   ]
  },
  {
   "cell_type": "code",
   "execution_count": 42,
   "metadata": {},
   "outputs": [
    {
     "name": "stdout",
     "output_type": "stream",
     "text": [
      "part 2: 79088855654037.0\n"
     ]
    }
   ],
   "source": [
    "# compute area with shoelace theorem\n",
    "if trench_positions[0] == trench_positions[-1]:\n",
    "    trench_positions.pop(-1)\n",
    "a = 0\n",
    "for i in reversed(range(len(trench_positions))):\n",
    "    (x1,y1) = trench_positions[i-1] if i > 0 else trench_positions[-1]\n",
    "    (x2,y2) = trench_positions[i]\n",
    "    a += x1*y2-x2*y1\n",
    "a *= 0.5\n",
    "a = abs(a)\n",
    "a += perimeter // 2 + 1\n",
    "\n",
    "print(f\"part 2: {a}\")"
   ]
  }
 ],
 "metadata": {
  "kernelspec": {
   "display_name": "DL",
   "language": "python",
   "name": "python3"
  },
  "language_info": {
   "codemirror_mode": {
    "name": "ipython",
    "version": 3
   },
   "file_extension": ".py",
   "mimetype": "text/x-python",
   "name": "python",
   "nbconvert_exporter": "python",
   "pygments_lexer": "ipython3",
   "version": "3.11.3"
  }
 },
 "nbformat": 4,
 "nbformat_minor": 2
}
