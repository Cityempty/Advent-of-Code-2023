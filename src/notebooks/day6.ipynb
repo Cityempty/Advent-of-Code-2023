{
 "cells": [
  {
   "cell_type": "code",
   "execution_count": null,
   "metadata": {},
   "outputs": [],
   "source": [
    "#imports"
   ]
  },
  {
   "cell_type": "code",
   "execution_count": 11,
   "metadata": {},
   "outputs": [],
   "source": [
    "#load small input\n",
    "input = open(\"./../../data/day_6/small_input.txt\", \"r\").readlines()"
   ]
  },
  {
   "cell_type": "code",
   "execution_count": 16,
   "metadata": {},
   "outputs": [],
   "source": [
    "#load input\n",
    "input = open(\"./../../data/day_6/input.txt\", \"r\").readlines()"
   ]
  },
  {
   "cell_type": "code",
   "execution_count": 17,
   "metadata": {},
   "outputs": [],
   "source": [
    "#process input\n",
    "races = list(zip(input[0].replace(\"Time: \", \"\").strip().split(), input[1].replace(\"Distance: \", \"\").strip().split()))\n",
    "races = [(int(x),int(y)) for (x,y) in races]"
   ]
  },
  {
   "cell_type": "code",
   "execution_count": 6,
   "metadata": {},
   "outputs": [
    {
     "name": "stdout",
     "output_type": "stream",
     "text": [
      "Part 1: 512295\n"
     ]
    }
   ],
   "source": [
    "# Part 1\n",
    "possibilities_per_game = []\n",
    "for (time,distance) in races:\n",
    "    possibilities = []\n",
    "    for i in range(1, time):\n",
    "        if (time-i) * i > distance:\n",
    "            possibilities.append(i)\n",
    "    possibilities_per_game.append(possibilities)\n",
    "\n",
    "result = 1\n",
    "for possibilities in possibilities_per_game:\n",
    "    result *= len(possibilities)\n",
    "\n",
    "print(f\"Part 1: {result}\")"
   ]
  },
  {
   "cell_type": "code",
   "execution_count": 18,
   "metadata": {},
   "outputs": [
    {
     "name": "stdout",
     "output_type": "stream",
     "text": [
      "Part 1: 36530883\n"
     ]
    }
   ],
   "source": [
    "# Part 2\n",
    "time = int(input[0].replace(\"Time: \", \"\").strip().replace(\" \", \"\"))\n",
    "distance = int(input[1].replace(\"Distance: \", \"\").strip().replace(\" \", \"\"))\n",
    "\n",
    "possibilities = []\n",
    "for i in range(1, time):\n",
    "    if (time-i) * i > distance:\n",
    "        possibilities.append(i)\n",
    "  \n",
    "\n",
    "result = len(possibilities)\n",
    "\n",
    "print(f\"Part 1: {result}\")"
   ]
  }
 ],
 "metadata": {
  "kernelspec": {
   "display_name": "DL",
   "language": "python",
   "name": "python3"
  },
  "language_info": {
   "codemirror_mode": {
    "name": "ipython",
    "version": 3
   },
   "file_extension": ".py",
   "mimetype": "text/x-python",
   "name": "python",
   "nbconvert_exporter": "python",
   "pygments_lexer": "ipython3",
   "version": "3.11.3"
  }
 },
 "nbformat": 4,
 "nbformat_minor": 2
}
