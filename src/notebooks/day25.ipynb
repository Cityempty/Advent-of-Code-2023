{
 "cells": [
  {
   "cell_type": "code",
   "execution_count": 4,
   "metadata": {},
   "outputs": [],
   "source": [
    "#imports\n",
    "import random"
   ]
  },
  {
   "cell_type": "code",
   "execution_count": 1,
   "metadata": {},
   "outputs": [],
   "source": [
    "#load small input\n",
    "input = open(\"./../../data/day_25/small_input.txt\",\"r\").readlines()"
   ]
  },
  {
   "cell_type": "code",
   "execution_count": 31,
   "metadata": {},
   "outputs": [],
   "source": [
    "#load input\n",
    "input = open(\"./../../data/day_25/input.txt\",\"r\").readlines()"
   ]
  },
  {
   "cell_type": "code",
   "execution_count": 32,
   "metadata": {},
   "outputs": [],
   "source": [
    "connections = {}\n",
    "for line in input:\n",
    "    line = line.strip()\n",
    "    s, cons = line.split(\": \")\n",
    "    cons = cons.split()\n",
    "    if s not in connections:\n",
    "        connections[s] = {}\n",
    "    for con in cons:\n",
    "        if con not in connections:\n",
    "            connections[con] = {}\n",
    "        connections[s][con] = 1\n",
    "        connections[con][s] = 1\n",
    "\n",
    "# for k,v in connections.items():\n",
    "#     print(f\"{k}: {v}\")"
   ]
  },
  {
   "cell_type": "code",
   "execution_count": 33,
   "metadata": {},
   "outputs": [
    {
     "name": "stdout",
     "output_type": "stream",
     "text": [
      "Found cut with 3 edges\n",
      "Part 1: 514786\n"
     ]
    }
   ],
   "source": [
    "## implement Karger Stein algorithm\n",
    "def deepcopy_graph_dict(graph):\n",
    "    copy = {}\n",
    "    for k,v in graph.items():\n",
    "        copy[k] = {ki:vi for ki,vi in v.items()}\n",
    "    return copy\n",
    "\n",
    "def contract(graph):\n",
    "    graph = deepcopy_graph_dict(graph)\n",
    "    nodesizes = {k:1 for k in graph.keys()}\n",
    "\n",
    "    while len(graph)>2:\n",
    "        #pick random edge\n",
    "        s_node = random.randint(0,len(graph)-1)\n",
    "        s_node = list(graph.keys())[s_node]\n",
    "        e_node = random.randint(0,len(graph[s_node])-1)\n",
    "        e_node = list(graph[s_node].keys())[e_node]\n",
    "\n",
    "        #delete the connection from the start node\n",
    "        graph[s_node].pop(e_node,None)\n",
    "\n",
    "        #move edges from the end node to the start node\n",
    "        for con_node,v in graph[e_node].items():\n",
    "            if con_node == e_node: continue\n",
    "            graph[s_node][con_node] = graph[s_node].get(con_node,0) + v #connect start node to connection of end node\n",
    "            graph[con_node][s_node] = graph[con_node].get(s_node,0) + v #undirected\n",
    "            graph[con_node].pop(e_node,None) #delete the connection between the end node and the connection node\n",
    "\n",
    "        #remove self connections\n",
    "        for k,v in graph.items():\n",
    "            v.pop(k,None)\n",
    "\n",
    "\n",
    "\n",
    "        graph.pop(e_node,None) #delete the end node\n",
    "        nodesizes[s_node] += nodesizes[e_node]\n",
    "        # if len(graph[node]) == 0:\n",
    "        #     graph.pop(node, None)\n",
    "        \n",
    "\n",
    "    return graph,nodesizes\n",
    "\n",
    "target = 3 # three cuts are allowed -> three edges can persist in the end\n",
    "while True:\n",
    "    graph,nodesizes = contract(connections)\n",
    "    keys = list(graph.keys())\n",
    "    if len(graph) == 2 and graph[keys[0]][keys[1]] == graph[keys[1]][keys[0]] and graph[keys[0]][keys[1]] == target:\n",
    "        print(f\"Found cut with {graph[keys[0]][keys[1]]} edges\")\n",
    "        result = nodesizes[keys[0]] * nodesizes[keys[1]]\n",
    "        break\n",
    "\n",
    "print(f\"Part 1: {result}\")\n",
    "    "
   ]
  },
  {
   "cell_type": "code",
   "execution_count": null,
   "metadata": {},
   "outputs": [],
   "source": []
  }
 ],
 "metadata": {
  "kernelspec": {
   "display_name": "DL",
   "language": "python",
   "name": "python3"
  },
  "language_info": {
   "codemirror_mode": {
    "name": "ipython",
    "version": 3
   },
   "file_extension": ".py",
   "mimetype": "text/x-python",
   "name": "python",
   "nbconvert_exporter": "python",
   "pygments_lexer": "ipython3",
   "version": "3.11.3"
  }
 },
 "nbformat": 4,
 "nbformat_minor": 2
}
