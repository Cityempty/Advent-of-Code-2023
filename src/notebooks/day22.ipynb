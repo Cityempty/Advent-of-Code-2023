{
 "cells": [
  {
   "cell_type": "code",
   "execution_count": 26,
   "metadata": {},
   "outputs": [],
   "source": [
    "#imports\n",
    "import numpy as np\n",
    "import functools"
   ]
  },
  {
   "cell_type": "code",
   "execution_count": 91,
   "metadata": {},
   "outputs": [],
   "source": [
    "#load small input\n",
    "input = open(\"./../../data/day_22/small_input.txt\", \"r\").readlines()"
   ]
  },
  {
   "cell_type": "code",
   "execution_count": 100,
   "metadata": {},
   "outputs": [],
   "source": [
    "#load input\n",
    "input = open(\"./../../data/day_22/input.txt\", \"r\").readlines()"
   ]
  },
  {
   "cell_type": "code",
   "execution_count": 101,
   "metadata": {},
   "outputs": [],
   "source": [
    "#process input\n",
    "bricks = []\n",
    "nums = []\n",
    "max_x = 0\n",
    "max_y = 0\n",
    "max_z = 0\n",
    "for i,line in enumerate(input):\n",
    "    line = line.strip()\n",
    "    end1, end2 = line.split(\"~\")\n",
    "    end1 = tuple(int(c) for c in end1.split(\",\"))\n",
    "    end2 = tuple(int(c) for c in end2.split(\",\"))\n",
    "    max_x = max(max_x,end1[0],end2[0])\n",
    "    max_y = max(max_y,end1[1],end2[1])\n",
    "    max_z = max(max_z,end1[2],end2[2])\n",
    "    brick = (end1,end2)\n",
    "    bricks.append((i+1,brick))\n",
    "    nums.append(i+1)"
   ]
  },
  {
   "cell_type": "code",
   "execution_count": 102,
   "metadata": {},
   "outputs": [],
   "source": [
    "def brick_base_height(brick):\n",
    "    (x1,y1,z1),(x2,y2,z2) = brick\n",
    "    base = []\n",
    "    x1,x2 = min(x1,x2),max(x1,x2)\n",
    "    y1,y2 = min(y1,y2),max(y1,y2)\n",
    "    z1,z2 = min(z1,z2),max(z1,z2)\n",
    "    height = z2-z1 + 1\n",
    "    for x in range(x1,x2+1):\n",
    "        for y in range(y1,y2+1):\n",
    "            base.append((x,y))\n",
    "    return ((x1,x2),(y1,y2)), height\n",
    "\n",
    "def brick_start_height(brick):\n",
    "    (x1,y1,z1),(x2,y2,z2) = brick\n",
    "    return min(z1,z2)\n",
    "\n",
    "def cmp_height(brick1, brick2):\n",
    "    h1 = brick_start_height(brick1)\n",
    "    h2 = brick_start_height(brick2)\n",
    "    if h1 > h2:\n",
    "        return 1\n",
    "    elif h2 > h1:\n",
    "        return -1\n",
    "    else:\n",
    "        #as long as the x and y base of the two bricks are different, this is irrelevant. Other situations should not be possible\n",
    "        return 0\n"
   ]
  },
  {
   "cell_type": "code",
   "execution_count": 103,
   "metadata": {},
   "outputs": [],
   "source": [
    "#settle bricks\n",
    "grid = np.zeros((max_x+1,max_y+1,max_z+1),dtype=int)\n",
    "brick_settled_positions = []\n",
    "grid[:,:,0] = 1500\n",
    "\n",
    "height_sorted_bricks = sorted(bricks, key=functools.cmp_to_key(lambda b1,b2: cmp_height(b1[1],b2[1])))\n",
    "\n",
    "for brick in height_sorted_bricks:\n",
    "    num,brick = brick\n",
    "    ((bx1,bx2),(by1,by2)),height = brick_base_height(brick)\n",
    "    #find first occupied height\n",
    "    first_occupied = grid.shape[2] - height\n",
    "    while np.sum(grid[bx1:bx2+1, by1:by2+1, first_occupied:first_occupied+height]) == 0:\n",
    "        first_occupied -= 1\n",
    "    grid[bx1:bx2+1, by1:by2+1, first_occupied+1:first_occupied+1+height] = num \n",
    "    brick_settled_positions.append( (num,((bx1,by1,first_occupied+1),(bx2,by2,first_occupied+height+1))) )\n",
    "        \n"
   ]
  },
  {
   "cell_type": "code",
   "execution_count": 104,
   "metadata": {},
   "outputs": [
    {
     "name": "stdout",
     "output_type": "stream",
     "text": [
      "There are 866 blocks only supported by 1 brick, meaning there are 391 destroyable bricks\n"
     ]
    }
   ],
   "source": [
    "#compute part 1\n",
    "brick_supported_by = {}\n",
    "for brick in brick_settled_positions:\n",
    "    num, brick = brick\n",
    "    (x1,y1,z1),(x2,y2,z2) = brick\n",
    "    supports = np.unique(grid[x1:x2+1,y1:y2+1,z1-1])\n",
    "    brick_supported_by[num] = [v for v in supports if v != 0]\n",
    "\n",
    "aaa = {}\n",
    "for n,b in brick_supported_by.items():\n",
    "    if len(b) ==1:\n",
    "        if b[0] == 1500:\n",
    "            continue\n",
    "        else:\n",
    "            aaa[b[0]] = True\n",
    "print(f\"There are {len(aaa)} blocks only supported by 1 brick, meaning there are {len(bricks)-len(aaa)} destroyable bricks\")\n",
    "\n",
    "\n",
    "supports = {}\n",
    "for num,sups in brick_supported_by.items():\n",
    "    for sup in sups:\n",
    "        if sup in supports:\n",
    "            supports[sup].append(num)\n",
    "        else:\n",
    "            supports[sup] = [num]\n",
    "for num in nums:\n",
    "    if num not in supports:\n",
    "        supports[num] = []\n"
   ]
  },
  {
   "cell_type": "code",
   "execution_count": 105,
   "metadata": {},
   "outputs": [
    {
     "name": "stdout",
     "output_type": "stream",
     "text": [
      "Part 2: 69601\n"
     ]
    }
   ],
   "source": [
    "chain_destroys = []\n",
    "\n",
    "def destroy_recursive(n,d):\n",
    "    d[n] = True\n",
    "    for sup in supports[n]:\n",
    "        if sup in d:\n",
    "            continue\n",
    "        else:\n",
    "            if len(brick_supported_by[sup]) == 1:\n",
    "                d[sup] = True\n",
    "            elif all(x in d for x in brick_supported_by[sup]):\n",
    "                d[sup] = True\n",
    "\n",
    "            if sup in d:\n",
    "                destroy_recursive(sup,d)\n",
    "\n",
    "\n",
    "for num in nums:\n",
    "    destroys = {}\n",
    "    destroy_recursive(num, destroys)\n",
    "    chain_destroys.append(len(destroys))\n",
    "\n",
    "result = sum([x-1 for x in chain_destroys])\n",
    "print(f\"Part 2: {result}\")"
   ]
  }
 ],
 "metadata": {
  "kernelspec": {
   "display_name": "DL",
   "language": "python",
   "name": "python3"
  },
  "language_info": {
   "codemirror_mode": {
    "name": "ipython",
    "version": 3
   },
   "file_extension": ".py",
   "mimetype": "text/x-python",
   "name": "python",
   "nbconvert_exporter": "python",
   "pygments_lexer": "ipython3",
   "version": "3.11.3"
  }
 },
 "nbformat": 4,
 "nbformat_minor": 2
}
