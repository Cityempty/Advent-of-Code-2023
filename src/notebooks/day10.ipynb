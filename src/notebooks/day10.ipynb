{
 "cells": [
  {
   "cell_type": "code",
   "execution_count": 1,
   "metadata": {},
   "outputs": [],
   "source": [
    "#imports\n",
    "import numpy as np"
   ]
  },
  {
   "cell_type": "code",
   "execution_count": 25,
   "metadata": {},
   "outputs": [],
   "source": [
    "#load small input\n",
    "input = open(\"./../../data/day_10/small_input.txt\", \"r\").readlines()"
   ]
  },
  {
   "cell_type": "code",
   "execution_count": 12,
   "metadata": {},
   "outputs": [],
   "source": [
    "#load small input 2\n",
    "input = open(\"./../../data/day_10/small2_input.txt\", \"r\").readlines()"
   ]
  },
  {
   "cell_type": "code",
   "execution_count": 54,
   "metadata": {},
   "outputs": [],
   "source": [
    "#load small input 3\n",
    "input = open(\"./../../data/day_10/small3_input.txt\", \"r\").readlines()"
   ]
  },
  {
   "cell_type": "code",
   "execution_count": 62,
   "metadata": {},
   "outputs": [],
   "source": [
    "#load small input 4\n",
    "input = open(\"./../../data/day_10/small4_input.txt\", \"r\").readlines()"
   ]
  },
  {
   "cell_type": "code",
   "execution_count": 70,
   "metadata": {},
   "outputs": [],
   "source": [
    "#load input\n",
    "input = open(\"./../../data/day_10/input.txt\", \"r\").readlines()"
   ]
  },
  {
   "cell_type": "code",
   "execution_count": 71,
   "metadata": {},
   "outputs": [],
   "source": [
    "#process input\n",
    "matrix = np.zeros((len(input), len(input[0].strip())), dtype=np.dtypes.StrDType)\n",
    "\n",
    "for i,line in enumerate(input):\n",
    "    line = line.strip()\n",
    "    for j,char in enumerate(line):\n",
    "        matrix[i,j] = char\n",
    "        if char == \"S\":\n",
    "            start = (i,j)\n",
    "\n"
   ]
  },
  {
   "cell_type": "code",
   "execution_count": 72,
   "metadata": {},
   "outputs": [],
   "source": [
    "#helper functions\n",
    "def get_connections(c):\n",
    "    \"\"\" Return tuple of connection booleans (left, up, right, down) for a given character c\n",
    "    \"\"\"\n",
    "    match c:\n",
    "        case '|': return (False, True, False, True)\n",
    "        case '-': return (True, False, True, False)\n",
    "        case 'L': return (False, True, True, False)\n",
    "        case 'J': return (True, True, False, False)\n",
    "        case '7': return (True, False, False, True)\n",
    "        case 'F': return (False, False, True, True)\n",
    "        case _: return (False, False, False, False)\n",
    "\n",
    "LEFT = 0\n",
    "UP = 1\n",
    "RIGHT = 2\n",
    "DOWN = 3\n",
    "\n",
    "def get_reverse_direction(direction):\n",
    "    if direction == LEFT:\n",
    "        return RIGHT\n",
    "    if direction == UP:\n",
    "        return DOWN\n",
    "    if direction == RIGHT:\n",
    "        return LEFT\n",
    "    if direction == DOWN:\n",
    "        return UP\n",
    "\n",
    "def get_next_pos(pos, direction):\n",
    "    (x,y) = pos\n",
    "    if direction == LEFT:\n",
    "        return (x,y-1)\n",
    "    if direction == UP:\n",
    "        return (x-1,y)\n",
    "    if direction == RIGHT:\n",
    "        return (x,y+1)\n",
    "    if direction == DOWN:\n",
    "        return (x+1,y)\n"
   ]
  },
  {
   "cell_type": "code",
   "execution_count": 73,
   "metadata": {},
   "outputs": [
    {
     "name": "stdout",
     "output_type": "stream",
     "text": [
      "Part 1: 6697.0 steps to furthest point in the loop.\n"
     ]
    }
   ],
   "source": [
    "# part 1\n",
    "# find loop\n",
    "loop = []\n",
    "#find symbol of start position (assume that there are only two pipes connecting to the start position, otherwise this will be more difficult)\n",
    "(x,y) = start\n",
    "if get_connections(matrix[x-1,y])[DOWN] and get_connections(matrix[x+1,y])[UP]:\n",
    "    #start is connected to up and down\n",
    "    matrix[x,y] = '|'\n",
    "elif get_connections(matrix[x,y-1])[RIGHT] and get_connections(matrix[x,y+1])[LEFT]:\n",
    "    #start is connected to left and right\n",
    "    matrix[x,y] = '-'\n",
    "elif get_connections(matrix[x-1,y])[DOWN] and get_connections(matrix[x,y-1])[RIGHT]:\n",
    "    #start is connected to up and left\n",
    "    matrix[x,y] = 'J'\n",
    "elif get_connections(matrix[x-1,y])[DOWN] and get_connections(matrix[x,y+1])[LEFT]:\n",
    "    #start is connected to up and right\n",
    "    matrix[x,y] = 'L'\n",
    "elif get_connections(matrix [x+1,y])[UP] and get_connections(matrix[x,y-1])[RIGHT]:\n",
    "    #start is connected to down and left\n",
    "    matrix[x,y] = '7'\n",
    "elif get_connections(matrix [x+1,y])[UP] and get_connections(matrix[x,y+1])[LEFT]:\n",
    "    #start is connected to down and right\n",
    "    matrix[x,y] = 'F'\n",
    "\n",
    "#traverse loop\n",
    "loop.append((matrix[x,y], (x,y)))\n",
    "connections = get_connections(matrix[x,y])\n",
    "direction = -1\n",
    "for i,v in enumerate(connections):\n",
    "    if v:\n",
    "        direction = i\n",
    "        break\n",
    "(x,y) = get_next_pos((x,y), direction)\n",
    "while not (x,y) == start:\n",
    "    loop.append((matrix[x,y], (x,y)))\n",
    "    connections = get_connections(matrix[x,y])\n",
    "    in_dir = get_reverse_direction(direction)\n",
    "    for i,v in enumerate(connections):\n",
    "        if v and not i == in_dir:\n",
    "            direction = i\n",
    "            break\n",
    "    (x,y) = get_next_pos((x,y), direction)\n",
    "    \n",
    "steps_to_furthest = len(loop)/2\n",
    "print(f\"Part 1: {steps_to_furthest} steps to furthest point in the loop.\")"
   ]
  },
  {
   "cell_type": "code",
   "execution_count": null,
   "metadata": {},
   "outputs": [],
   "source": [
    "\"\"\"\n",
    "ideas for part 2:\n",
    "-> first, expand the loop -> add 0s along the left and the right of the loop, which allow calculating the squeezing between pipes\n",
    "-> then, add a perimeter of virtual tiles that are certainly not in the loop around the border of the matrix\n",
    "-> then, flood the matrix from the border. If a tile is not part of the loop and has a connection to some other tile that is free (already flooded), then mark it as free as well\n",
    "\"\"\""
   ]
  },
  {
   "cell_type": "code",
   "execution_count": 74,
   "metadata": {},
   "outputs": [],
   "source": [
    "#expand the loop with zeros along the direction of the pipes\n",
    "def expand_tile(c):\n",
    "    expanded = np.zeros((3,3), dtype=np.dtypes.StrDType)\n",
    "    expanded[1,1] = c\n",
    "    connections = get_connections(c)\n",
    "    if connections[LEFT]:\n",
    "        expanded[1,0] = '-'\n",
    "    if connections[RIGHT]:\n",
    "        expanded[1,2] = '-'\n",
    "    if connections[UP]:\n",
    "        expanded[0,1] = '|'\n",
    "    if connections[DOWN]:\n",
    "        expanded[2,1] = '|'\n",
    "    return expanded\n",
    "\n",
    "def is_real_position(pos):\n",
    "    (x,y) = pos\n",
    "    return (x>=2) and (y>=2) and (x-2)%3==0 and (y-2)%3==0\n",
    "\n",
    "def position_in_loop(pos):\n",
    "    return pos in [p for _,p in loop]"
   ]
  },
  {
   "cell_type": "code",
   "execution_count": 75,
   "metadata": {},
   "outputs": [],
   "source": [
    "expanded = np.zeros((matrix.shape[0]*3, matrix.shape[1]*3), dtype=np.dtypes.StrDType)\n",
    "for x in range(matrix.shape[0]):\n",
    "    for y in range(matrix.shape[1]):\n",
    "        e = expand_tile(matrix[x,y]) if position_in_loop((x,y)) else np.zeros((3,3), dtype=np.dtypes.StrDType)\n",
    "\n",
    "        expanded[x*3:(x*3)+3,y*3:(y*3)+3] = e"
   ]
  },
  {
   "cell_type": "code",
   "execution_count": 76,
   "metadata": {},
   "outputs": [],
   "source": [
    "#add perimeter\n",
    "expanded_p = np.zeros((expanded.shape[0]+2, expanded.shape[1]+2), dtype=np.dtypes.StrDType)\n",
    "expanded_p[1:-1,1:-1] = expanded"
   ]
  },
  {
   "cell_type": "code",
   "execution_count": 77,
   "metadata": {},
   "outputs": [
    {
     "name": "stdout",
     "output_type": "stream",
     "text": [
      "Part 2: there are 423 enclosed tiles.\n"
     ]
    }
   ],
   "source": [
    "#perform bfs\n",
    "visited = np.zeros(expanded_p.shape, dtype=bool)\n",
    "visited[0,0] = True\n",
    "\n",
    "def get_neighbours(pos,matrix_shape):\n",
    "    x,y = pos\n",
    "    xm,ym = matrix_shape\n",
    "    neighbours = []\n",
    "    if x > 0:\n",
    "        neighbours.append((x-1,y))\n",
    "    if y > 0:\n",
    "        neighbours.append((x,y-1))\n",
    "    if x < xm-1:\n",
    "        neighbours.append((x+1,y))\n",
    "    if y < ym-1:\n",
    "        neighbours.append((x,y+1))\n",
    "    return neighbours\n",
    "\n",
    "queue = [(0,0)]\n",
    "while len(queue) > 0:\n",
    "    x,y = queue.pop(0)\n",
    "    for nx,ny in get_neighbours((x,y), expanded_p.shape):\n",
    "        if (not visited[nx,ny]) and (expanded_p[nx,ny] == 0): #for some reason accessing expanded_p here returns an int instead of some string type, therefore the check works with == 0 instead of == '0'\n",
    "            visited[nx,ny] = True\n",
    "            queue.append((nx,ny))    \n",
    "#count tiles\n",
    "enclosed = 0\n",
    "for i in range(visited.shape[0]):\n",
    "    for j in range(visited.shape[1]):\n",
    "        if not visited[i,j] and is_real_position((i,j)):\n",
    "            enclosed += 1\n",
    "enclosed = enclosed - len(loop)\n",
    "\n",
    "print(f\"Part 2: there are {enclosed} enclosed tiles.\")"
   ]
  }
 ],
 "metadata": {
  "kernelspec": {
   "display_name": "DL",
   "language": "python",
   "name": "python3"
  },
  "language_info": {
   "codemirror_mode": {
    "name": "ipython",
    "version": 3
   },
   "file_extension": ".py",
   "mimetype": "text/x-python",
   "name": "python",
   "nbconvert_exporter": "python",
   "pygments_lexer": "ipython3",
   "version": "3.11.3"
  }
 },
 "nbformat": 4,
 "nbformat_minor": 2
}
