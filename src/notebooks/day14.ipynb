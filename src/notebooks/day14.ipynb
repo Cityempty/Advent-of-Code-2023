{
 "cells": [
  {
   "cell_type": "code",
   "execution_count": 28,
   "metadata": {},
   "outputs": [],
   "source": [
    "#imports\n",
    "import numpy as np\n",
    "from tqdm import tqdm"
   ]
  },
  {
   "cell_type": "code",
   "execution_count": 23,
   "metadata": {},
   "outputs": [],
   "source": [
    "#load small input\n",
    "input = open(\"./../../data/day_14/small_input.txt\", \"r\").readlines()"
   ]
  },
  {
   "cell_type": "code",
   "execution_count": 39,
   "metadata": {},
   "outputs": [],
   "source": [
    "#load input\n",
    "input = open(\"./../../data/day_14/input.txt\", \"r\").readlines()"
   ]
  },
  {
   "cell_type": "code",
   "execution_count": 40,
   "metadata": {},
   "outputs": [],
   "source": [
    "#process input\n",
    "arr = np.zeros((len(input), len(input[0].strip())), dtype=int)\n",
    "for i, line in enumerate(input):\n",
    "    for j, char in enumerate(line.strip()):\n",
    "        if char == \"#\":\n",
    "            arr[i][j] = 1\n",
    "        elif char == \".\":\n",
    "            arr[i][j] = 0\n",
    "        elif char == \"O\":\n",
    "            arr[i][j] = 2\n",
    "        else:\n",
    "            print(f\"Unknown char: '{char}'\")"
   ]
  },
  {
   "cell_type": "code",
   "execution_count": 41,
   "metadata": {},
   "outputs": [
    {
     "name": "stdout",
     "output_type": "stream",
     "text": [
      "Part 1: 106990\n"
     ]
    }
   ],
   "source": [
    "#part 1\n",
    "def tilt_north(arr):\n",
    "    narr = np.zeros_like(arr)\n",
    "    for i in range(0, arr.shape[1]):\n",
    "        col = arr[:,i]\n",
    "        ncol = np.zeros_like(col)\n",
    "        last_stable_index = 0\n",
    "        for j in range(0, col.shape[0]):\n",
    "            if col[j] == 1:\n",
    "                last_stable_index = j+1 #found a square rock which is stable\n",
    "                ncol[j] = 1\n",
    "            elif col[j] == 2:\n",
    "                ncol[last_stable_index] = 2\n",
    "                last_stable_index += 1\n",
    "                #todo maybe adjust last_stable_index again if it now hits a square rock position\n",
    "        narr[:,i] = ncol\n",
    "    return narr\n",
    "\n",
    "narr = tilt_north(arr)\n",
    "row_vals = []\n",
    "for row in range(0, arr.shape[0]):\n",
    "    row_vals.append((arr.shape[0]-row) * np.sum(narr[row,:] == 2))\n",
    "\n",
    "result = sum(row_vals)\n",
    "print(f\"Part 1: {result}\")\n",
    "        \n"
   ]
  },
  {
   "cell_type": "code",
   "execution_count": 42,
   "metadata": {},
   "outputs": [],
   "source": [
    "#part 2\n",
    "def tilt_south(arr):\n",
    "    narr = np.zeros_like(arr)\n",
    "    for i in range(0, arr.shape[1]):\n",
    "        col = arr[:,i]\n",
    "        ncol = np.zeros_like(col)\n",
    "        last_stable_index = arr.shape[0]-1\n",
    "        for j in reversed(range(0, col.shape[0])):\n",
    "            if col[j] == 1:\n",
    "                last_stable_index = j-1 #found a square rock which is stable\n",
    "                ncol[j] = 1\n",
    "            elif col[j] == 2:\n",
    "                ncol[last_stable_index] = 2\n",
    "                last_stable_index -= 1\n",
    "                #todo maybe adjust last_stable_index again if it now hits a square rock position\n",
    "        narr[:,i] = ncol\n",
    "    return narr\n",
    "\n",
    "def tilt_west(arr):\n",
    "    narr = np.zeros_like(arr)\n",
    "    for r in range(0, arr.shape[0]):\n",
    "        row = arr[r,:]\n",
    "        nrow = np.zeros_like(row)\n",
    "        last_stable_index = 0\n",
    "        for c in range(0, row.shape[0]):\n",
    "            if row[c] == 1:\n",
    "                last_stable_index = c+1\n",
    "                nrow[c] = 1\n",
    "            elif row[c] == 2:\n",
    "                nrow[last_stable_index] = 2\n",
    "                last_stable_index += 1\n",
    "        narr[r,:] = nrow\n",
    "    return narr\n",
    "\n",
    "def tilt_east(arr):\n",
    "    narr = np.zeros_like(arr)\n",
    "    for r in range(0, arr.shape[0]):\n",
    "        row = arr[r,:]\n",
    "        nrow = np.zeros_like(row)\n",
    "        last_stable_index = arr.shape[1]-1\n",
    "        for c in reversed(range(0, row.shape[0])):\n",
    "            if row[c] == 1:\n",
    "                last_stable_index = c-1\n",
    "                nrow[c] = 1\n",
    "            elif row[c] == 2:\n",
    "                nrow[last_stable_index] = 2\n",
    "                last_stable_index -= 1\n",
    "        narr[r,:] = nrow\n",
    "    return narr"
   ]
  },
  {
   "cell_type": "code",
   "execution_count": 43,
   "metadata": {},
   "outputs": [
    {
     "name": "stderr",
     "output_type": "stream",
     "text": [
      "  0%|          | 143/1000000000 [00:02<4653:02:48, 59.70it/s]"
     ]
    },
    {
     "name": "stdout",
     "output_type": "stream",
     "text": [
      "Found cycle at 143 and 104\n",
      "Cycle length: 39\n",
      "Continue for 37 cycles\n"
     ]
    },
    {
     "name": "stderr",
     "output_type": "stream",
     "text": [
      "\n"
     ]
    },
    {
     "name": "stdout",
     "output_type": "stream",
     "text": [
      "Part 2: 100531\n"
     ]
    }
   ],
   "source": [
    "# compute part 2\n",
    "def cycle(arr):\n",
    "    n = tilt_north(arr)\n",
    "    w = tilt_west(n)\n",
    "    s = tilt_south(w)\n",
    "    e = tilt_east(s)\n",
    "    return e\n",
    "\n",
    "prev = {}\n",
    "r = arr\n",
    "for i in tqdm(range(1000000000), miniters=1000):\n",
    "    r = cycle(r)\n",
    "    if tuple(r.flatten()) in prev:\n",
    "        print(f\"Found cycle at {i} and {prev[tuple(r.flatten())]}\")\n",
    "        cycle_length = i - prev[tuple(r.flatten())]\n",
    "        break\n",
    "    else:\n",
    "        prev[tuple(r.flatten())] = i\n",
    "\n",
    "print(f\"Cycle length: {cycle_length}\")\n",
    "\n",
    "#skip to the end\n",
    "continue_at = (1000000000 - i -1) % cycle_length\n",
    "print(f\"Continue for {continue_at} cycles\")\n",
    "for i in range(continue_at):\n",
    "    r = cycle(r)\n",
    "    \n",
    "row_vals2 = []\n",
    "for row in range(0, r.shape[0]):\n",
    "    row_vals2.append((r.shape[0]-row) * np.sum(r[row,:] == 2))\n",
    "\n",
    "result2 = sum(row_vals2)\n",
    "print(f\"Part 2: {result2}\")"
   ]
  }
 ],
 "metadata": {
  "kernelspec": {
   "display_name": "DL",
   "language": "python",
   "name": "python3"
  },
  "language_info": {
   "codemirror_mode": {
    "name": "ipython",
    "version": 3
   },
   "file_extension": ".py",
   "mimetype": "text/x-python",
   "name": "python",
   "nbconvert_exporter": "python",
   "pygments_lexer": "ipython3",
   "version": "3.11.3"
  }
 },
 "nbformat": 4,
 "nbformat_minor": 2
}
