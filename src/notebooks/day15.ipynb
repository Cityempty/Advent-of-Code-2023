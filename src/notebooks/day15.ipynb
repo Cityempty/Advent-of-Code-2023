{
 "cells": [
  {
   "cell_type": "code",
   "execution_count": null,
   "metadata": {},
   "outputs": [],
   "source": [
    "#imports"
   ]
  },
  {
   "cell_type": "code",
   "execution_count": 16,
   "metadata": {},
   "outputs": [],
   "source": [
    "#load small input\n",
    "input = open(\"./../../data/day_15/small_input.txt\", \"r\").readlines()"
   ]
  },
  {
   "cell_type": "code",
   "execution_count": 21,
   "metadata": {},
   "outputs": [],
   "source": [
    "#load input\n",
    "input = open(\"./../../data/day_15/input.txt\", \"r\").readlines()"
   ]
  },
  {
   "cell_type": "code",
   "execution_count": 22,
   "metadata": {},
   "outputs": [],
   "source": [
    "#process input\n",
    "sequence = []\n",
    "for i,line in enumerate(input):\n",
    "    line = line.strip()\n",
    "    if i != len(input)-1 and line[-1] != \",\":\n",
    "        print(f\"ERROR, linebreak within sequence element at line {i}\")\n",
    "    split = line.split(\",\")\n",
    "    sequence.extend(split)"
   ]
  },
  {
   "cell_type": "code",
   "execution_count": 5,
   "metadata": {},
   "outputs": [],
   "source": [
    "#part 1\n",
    "def hash_element(s):\n",
    "    h = 0\n",
    "    for i,c in enumerate(s):\n",
    "        h += ord(c)\n",
    "        h *= 17\n",
    "        h %= 256\n",
    "    return h"
   ]
  },
  {
   "cell_type": "code",
   "execution_count": 23,
   "metadata": {},
   "outputs": [
    {
     "name": "stdout",
     "output_type": "stream",
     "text": [
      "Part 1: 511257\n"
     ]
    }
   ],
   "source": [
    "hashes = []\n",
    "for element in sequence:\n",
    "    hashes.append(hash_element(element))\n",
    "result = sum(hashes)\n",
    "print(f\"Part 1: {result}\")"
   ]
  },
  {
   "cell_type": "code",
   "execution_count": 25,
   "metadata": {},
   "outputs": [],
   "source": [
    "#part 2\n",
    "## reprocess input\n",
    "operations = []\n",
    "for i,element in enumerate(sequence):\n",
    "    if '=' in element:\n",
    "        split = element.split(\"=\")\n",
    "        operations.append((\"=\",split[0],int(split[1])))\n",
    "    elif '-' in element:\n",
    "        split = element.split(\"-\")\n",
    "        operations.append((\"-\",split[0]))\n",
    "    else:\n",
    "        print(f\"ERROR, no operation found in {element}\")\n",
    "    "
   ]
  },
  {
   "cell_type": "code",
   "execution_count": 26,
   "metadata": {},
   "outputs": [
    {
     "name": "stdout",
     "output_type": "stream",
     "text": [
      "Part 2: 239484\n"
     ]
    }
   ],
   "source": [
    "# compute part 2\n",
    "boxes = [{} for _ in range(256)]\n",
    "for operation in operations:\n",
    "    box = hash_element(operation[1])\n",
    "    if operation[0] == \"=\":\n",
    "        boxes[box][operation[1]] = operation[2]\n",
    "    elif operation[0] == \"-\":\n",
    "        boxes[box].pop(operation[1], None)\n",
    "    else:\n",
    "        print(f\"ERROR, unknown operation {operation[0]}\")\n",
    "\n",
    "powers = []\n",
    "for i,box in enumerate(boxes):\n",
    "    for j,(k,v) in enumerate(box.items()):\n",
    "        power = (i+1)*(j+1)*v\n",
    "        powers.append(power)\n",
    "\n",
    "result2 = sum(powers)\n",
    "print(f\"Part 2: {result2}\")\n"
   ]
  }
 ],
 "metadata": {
  "kernelspec": {
   "display_name": "DL",
   "language": "python",
   "name": "python3"
  },
  "language_info": {
   "codemirror_mode": {
    "name": "ipython",
    "version": 3
   },
   "file_extension": ".py",
   "mimetype": "text/x-python",
   "name": "python",
   "nbconvert_exporter": "python",
   "pygments_lexer": "ipython3",
   "version": "3.11.3"
  }
 },
 "nbformat": 4,
 "nbformat_minor": 2
}
