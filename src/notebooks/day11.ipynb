{
 "cells": [
  {
   "cell_type": "code",
   "execution_count": 44,
   "metadata": {},
   "outputs": [],
   "source": [
    "#imports\n",
    "import numpy as np\n",
    "import sys"
   ]
  },
  {
   "cell_type": "code",
   "execution_count": 45,
   "metadata": {},
   "outputs": [],
   "source": [
    "#load small input\n",
    "input = open(\"./../../data/day_11/small_input.txt\", \"r\").readlines()"
   ]
  },
  {
   "cell_type": "code",
   "execution_count": 51,
   "metadata": {},
   "outputs": [],
   "source": [
    "#load input\n",
    "input = open(\"./../../data/day_11/input.txt\", \"r\").readlines()"
   ]
  },
  {
   "cell_type": "code",
   "execution_count": 52,
   "metadata": {},
   "outputs": [],
   "source": [
    "#process input\n",
    "image = np.zeros((len(input), len(input[0].strip())), dtype=int)\n",
    "\n",
    "for i, line in enumerate(input):\n",
    "    line = line.strip()\n",
    "    for j, char in enumerate(line):\n",
    "        if char == \"#\":\n",
    "            image[i,j] = 1\n",
    "        elif char == \".\":\n",
    "            image[i,j] = 0\n",
    "        else:\n",
    "            print(f\"Unexpected character {char} in image\")"
   ]
  },
  {
   "cell_type": "code",
   "execution_count": 40,
   "metadata": {},
   "outputs": [],
   "source": [
    "#expand\n",
    "def expand(image):\n",
    "    empty_rows = 0\n",
    "    for row in range(image.shape[0]):\n",
    "        if np.sum(image[row,:]) == 0:\n",
    "            empty_rows += 1\n",
    "    empty_cols = 0\n",
    "    for col in range(image.shape[1]):\n",
    "        if np.sum(image[:,col]) == 0:\n",
    "            empty_cols += 1\n",
    "    \n",
    "    new_image = np.zeros((image.shape[0]+empty_rows, image.shape[1]+empty_cols), dtype=int)\n",
    "\n",
    "    #print(f\"size of original image is {image.shape}, size of new image is {new_image.shape}\")\n",
    "\n",
    "    offset_row = 0\n",
    "    for row in range(image.shape[0]):\n",
    "        offset_col = 0\n",
    "        for col in range(image.shape[1]):\n",
    "            #print(f\"Processing position {(row,col)} with current offsets {(offset_row,offset_col)}\")\n",
    "            \n",
    "            if np.sum(image[row,:]) == 0 and np.sum(image[col,:]) == 0:\n",
    "                #both row and col are empty\n",
    "                new_image[row+offset_row, col+offset_col] = 0\n",
    "                if col == 0:\n",
    "                    offset_row += 1\n",
    "                offset_col += 1\n",
    "                new_image[row+offset_row, col+offset_col] = 0\n",
    "            elif np.sum(image[row,:]) == 0:\n",
    "                #only row is empty\n",
    "                new_image[row+offset_row, col+offset_col] = 0\n",
    "                if col == 0:\n",
    "                    offset_row += 1\n",
    "                new_image[row+offset_row, col+offset_col] = 0\n",
    "            elif np.sum(image[:,col]) == 0:\n",
    "                #only col is empty\n",
    "                new_image[row+offset_row, col+offset_col] = 0\n",
    "                offset_col += 1\n",
    "                new_image[row+offset_row, col+offset_col] = 0\n",
    "            else:\n",
    "                #neither is empty\n",
    "                new_image[row+offset_row, col+offset_col] = image[row,col] #should be fine to only actually access image here? because if the entire row or col is 0, then image[row,col] also needs to be 0\n",
    "    return new_image"
   ]
  },
  {
   "cell_type": "code",
   "execution_count": 41,
   "metadata": {},
   "outputs": [],
   "source": [
    "image_expanded = expand(image)"
   ]
  },
  {
   "cell_type": "code",
   "execution_count": 33,
   "metadata": {},
   "outputs": [],
   "source": [
    "def get_neighbours(pos,matrix_shape):\n",
    "    x,y = pos\n",
    "    xm,ym = matrix_shape\n",
    "    neighbours = []\n",
    "    if x > 0:\n",
    "        neighbours.append((x-1,y))\n",
    "    if y > 0:\n",
    "        neighbours.append((x,y-1))\n",
    "    if x < xm-1:\n",
    "        neighbours.append((x+1,y))\n",
    "    if y < ym-1:\n",
    "        neighbours.append((x,y+1))\n",
    "    return neighbours\n",
    "\n",
    "def floyd_warshall(image):\n",
    "    n = image.shape[0]*image.shape[1]\n",
    "    D = np.zeros((n,n), dtype=int)\n",
    "    D[:,:] = 1e8\n",
    "    for i in range(1,n):\n",
    "        xi,yi = i//image.shape[1],i%image.shape[1]\n",
    "        for x,y in get_neighbours((xi,yi), image.shape):\n",
    "            n2 = x*image.shape[0]+y\n",
    "            D[i,n2] = 1\n",
    "            D[n2,i] = 1\n",
    "            \n",
    "    for k in range(1, n):\n",
    "        for i in range(1,n):\n",
    "            for j in range(1,n):\n",
    "                xk,yk = k//image.shape[1],k%image.shape[1]\n",
    "                xi,yi = i//image.shape[1],i%image.shape[1]\n",
    "                xj,yj = j//image.shape[1],j%image.shape[1]\n",
    "\n",
    "                D[i,j] = min(D[i,j], D[i,k]+D[k,j])\n",
    "\n",
    "    return D\n"
   ]
  },
  {
   "cell_type": "code",
   "execution_count": 34,
   "metadata": {},
   "outputs": [
    {
     "name": "stdout",
     "output_type": "stream",
     "text": [
      "Part 1: The sum of galaxy distances is [1651008983 1651008983 1651008983 1651008983  515125532 1651008983\n",
      " 1651008983 1651008983 1651008983 1651008983 1651008983 1651008983\n",
      " 1651008983]\n"
     ]
    }
   ],
   "source": [
    "# part 1\n",
    "galaxies = []\n",
    "for i in range(image_expanded.shape[0]):\n",
    "    for j in range(image_expanded.shape[1]):\n",
    "        if image_expanded[i,j] == 0:\n",
    "            galaxies.append((i,j))\n",
    "\n",
    "D = floyd_warshall(image_expanded)\n",
    "galaxy_distances = []\n",
    "for i,(g1x,g1y) in enumerate(galaxies):\n",
    "    if i+1 < len(galaxies):\n",
    "        for j,(g2x,g2y) in enumerate(galaxies[i+1:]):\n",
    "            n1 = g1x*image_expanded[0]+g1y\n",
    "            n2 = g2x*image_expanded[0]+g2y\n",
    "            galaxy_distances.append(D[n1,n2])\n",
    "\n",
    "summed_distances = sum(galaxy_distances)\n",
    "print(f\"Part 1: The sum of galaxy distances is {summed_distances}\")\n"
   ]
  },
  {
   "cell_type": "code",
   "execution_count": 42,
   "metadata": {},
   "outputs": [
    {
     "name": "stdout",
     "output_type": "stream",
     "text": [
      "Part 1: 10422930\n"
     ]
    }
   ],
   "source": [
    "#floyd warshall was a very unnecessary idea, so here we go with the simple idea:\n",
    "# part 1\n",
    "galaxies = []\n",
    "for i in range(image_expanded.shape[0]):\n",
    "    for j in range(image_expanded.shape[1]):\n",
    "        if image_expanded[i,j] == 1:\n",
    "            galaxies.append((i,j))\n",
    "\n",
    "distances = []\n",
    "for i,g1 in enumerate(galaxies[:-1]):\n",
    "    for g2 in galaxies[i+1:]:\n",
    "        distances.append(abs(g1[0]-g2[0])+abs(g1[1]-g2[1]))\n",
    "\n",
    "sum_distances = sum(distances)\n",
    "print(f\"Part 1: {sum_distances}\")"
   ]
  },
  {
   "cell_type": "code",
   "execution_count": 53,
   "metadata": {},
   "outputs": [
    {
     "name": "stdout",
     "output_type": "stream",
     "text": [
      "Part 2: 699909023130.0\n"
     ]
    }
   ],
   "source": [
    "#part 2\n",
    "galaxies = []\n",
    "for i in range(image.shape[0]):\n",
    "    for j in range(image.shape[1]):\n",
    "        if image[i,j] == 1:\n",
    "            galaxies.append((i,j))\n",
    "\n",
    "distances = []\n",
    "for i,g1 in enumerate(galaxies[:-1]):\n",
    "    for g2 in galaxies[i+1:]:\n",
    "        (g1x,g1y) = g1\n",
    "        (g2x,g2y) = g2\n",
    "        #count row distance\n",
    "        xdist = 0\n",
    "        for i in range(min(g1x,g2x),max(g1x,g2x)):\n",
    "            if np.sum(image[i,:]) == 0:\n",
    "                xdist += 1e6\n",
    "            else:\n",
    "                xdist += 1\n",
    "        ydist = 0\n",
    "        for i in range(min(g1y,g2y),max(g1y,g2y)):\n",
    "            if np.sum(image[:,i]) == 0:\n",
    "                ydist += 1e6\n",
    "            else:\n",
    "                ydist +=1\n",
    "        distances.append(ydist+xdist)\n",
    "\n",
    "sum_distances = sum(distances)\n",
    "print(f\"Part 2: {sum_distances}\")"
   ]
  }
 ],
 "metadata": {
  "kernelspec": {
   "display_name": "DL",
   "language": "python",
   "name": "python3"
  },
  "language_info": {
   "codemirror_mode": {
    "name": "ipython",
    "version": 3
   },
   "file_extension": ".py",
   "mimetype": "text/x-python",
   "name": "python",
   "nbconvert_exporter": "python",
   "pygments_lexer": "ipython3",
   "version": "3.11.3"
  }
 },
 "nbformat": 4,
 "nbformat_minor": 2
}
