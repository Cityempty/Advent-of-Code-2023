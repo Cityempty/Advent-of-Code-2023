{
 "cells": [
  {
   "cell_type": "code",
   "execution_count": 3,
   "metadata": {},
   "outputs": [],
   "source": [
    "#Imports\n",
    "import numpy as np"
   ]
  },
  {
   "cell_type": "code",
   "execution_count": 5,
   "metadata": {},
   "outputs": [],
   "source": [
    "#load small input\n",
    "input = open(\"./../../data/day_16/small_input.txt\", \"r\").readlines()"
   ]
  },
  {
   "cell_type": "code",
   "execution_count": 14,
   "metadata": {},
   "outputs": [],
   "source": [
    "#load input\n",
    "input = open(\"./../../data/day_16/input.txt\", \"r\").readlines()"
   ]
  },
  {
   "cell_type": "code",
   "execution_count": 15,
   "metadata": {},
   "outputs": [],
   "source": [
    "#process input\n",
    "layout = np.zeros((len(input), len(input[0].strip())), dtype=int)\n",
    "for i,line in enumerate(input):\n",
    "    for j,char in enumerate(line.strip()):\n",
    "        if char == \".\":\n",
    "            layout[i,j] = 0\n",
    "        elif char == \"/\":\n",
    "            layout[i,j] = 1\n",
    "        elif char == \"|\":\n",
    "            layout[i,j] = 2\n",
    "        elif char == \"\\\\\":\n",
    "            layout[i,j] = -1\n",
    "        elif char == \"-\":\n",
    "            layout[i,j] = -2\n",
    "        else:\n",
    "            print(f\"Error: unknown character {char}\")"
   ]
  },
  {
   "cell_type": "code",
   "execution_count": 18,
   "metadata": {},
   "outputs": [
    {
     "name": "stdout",
     "output_type": "stream",
     "text": [
      "Part 1: 7046\n"
     ]
    }
   ],
   "source": [
    "# part 1\n",
    "def in_arr(pos, shape):\n",
    "    x,y = pos\n",
    "    return x >= 0 and y >= 0 and x < shape[0] and y < shape[1]\n",
    "\n",
    "def get_visited(layout, start_pos = (0,0), start_dir = 0):\n",
    "    visited = np.zeros_like(layout, dtype=int)\n",
    "    beam_dirs = [start_dir] # 0 = right, 1 = down, 2 = left, 3 = up\n",
    "    beam_pos = [start_pos]\n",
    "    cache_checked = {}\n",
    "    while len(beam_pos) > 0:\n",
    "        new_beam_pos = []\n",
    "        new_beam_dirs = []\n",
    "        for pos, dir in zip(beam_pos, beam_dirs):\n",
    "            if in_arr(pos, layout.shape) and not (*pos, dir) in cache_checked:\n",
    "                cache_checked[(*pos, dir)] = True\n",
    "                new_pos = []\n",
    "                new_dirs = []\n",
    "                visited[pos] += 1 \n",
    "                #decide next directions based on current beam direction and layout and add beams on split\n",
    "                ## first, check direction change\n",
    "                if layout[pos] == 0:\n",
    "                    new_dirs.append(dir)\n",
    "                elif layout[pos] == 1: # /\n",
    "                    match dir:\n",
    "                        case 0: new_dirs.append(3)\n",
    "                        case 1: new_dirs.append(2)\n",
    "                        case 2: new_dirs.append(1)\n",
    "                        case 3: new_dirs.append(0)\n",
    "                elif layout[pos] == -1: # \\\n",
    "                    match dir:\n",
    "                        case 0: new_dirs.append(1)\n",
    "                        case 1: new_dirs.append(0)\n",
    "                        case 2: new_dirs.append(3)\n",
    "                        case 3: new_dirs.append(2)\n",
    "                elif layout[pos] == 2: # |\n",
    "                    match dir:\n",
    "                        case 0: new_dirs.extend([1,3])\n",
    "                        case 1: new_dirs.append(1)\n",
    "                        case 2: new_dirs.extend([1,3])\n",
    "                        case 3: new_dirs.append(3)\n",
    "                elif layout[pos] == -2: # -\n",
    "                    match dir:\n",
    "                        case 0: new_dirs.append(0)\n",
    "                        case 1: new_dirs.extend([0,2])\n",
    "                        case 2: new_dirs.append(2)\n",
    "                        case 3: new_dirs.extend([0,2])\n",
    "                ## calculate new positions\n",
    "                for new_dir in new_dirs:\n",
    "                    match new_dir:\n",
    "                        case 0: new_pos.append((pos[0], pos[1]+1))\n",
    "                        case 1: new_pos.append((pos[0]+1, pos[1]))\n",
    "                        case 2: new_pos.append((pos[0], pos[1]-1))\n",
    "                        case 3: new_pos.append((pos[0]-1, pos[1]))\n",
    "                \n",
    "                new_beam_pos.extend(new_pos)\n",
    "                new_beam_dirs.extend(new_dirs)\n",
    "        beam_pos = new_beam_pos\n",
    "        beam_dirs = new_beam_dirs\n",
    "    return visited\n",
    "\n",
    "result = np.sum(get_visited(layout) >= 1)\n",
    "print(f\"Part 1: {result}\")\n"
   ]
  },
  {
   "cell_type": "code",
   "execution_count": 19,
   "metadata": {},
   "outputs": [
    {
     "name": "stdout",
     "output_type": "stream",
     "text": [
      "Part 2: 7313\n"
     ]
    }
   ],
   "source": [
    "# part 2\n",
    "## attempt brute force\n",
    "start_positions = []\n",
    "start_directions = []\n",
    "start_positions.extend([(i,0) for i in range(layout.shape[0])])\n",
    "start_directions.extend([0 for i in range(layout.shape[0])])\n",
    "start_positions.extend([(i,layout.shape[1]-1) for i in range(layout.shape[0])])\n",
    "start_directions.extend([2 for i in range(layout.shape[0])])\n",
    "start_positions.extend([(0,i) for i in range(layout.shape[1])])\n",
    "start_directions.extend([1 for i in range(layout.shape[1])])\n",
    "start_positions.extend([(layout.shape[0]-1,i) for i in range(layout.shape[1])])\n",
    "start_directions.extend([3 for i in range(layout.shape[1])])\n",
    "\n",
    "results = []\n",
    "for pos, dir in zip(start_positions, start_directions):\n",
    "    visited = get_visited(layout, pos, dir)\n",
    "    results.append(np.sum(visited >= 1))\n",
    "result = np.max(results)\n",
    "print(f\"Part 2: {result}\")"
   ]
  }
 ],
 "metadata": {
  "kernelspec": {
   "display_name": "DL",
   "language": "python",
   "name": "python3"
  },
  "language_info": {
   "codemirror_mode": {
    "name": "ipython",
    "version": 3
   },
   "file_extension": ".py",
   "mimetype": "text/x-python",
   "name": "python",
   "nbconvert_exporter": "python",
   "pygments_lexer": "ipython3",
   "version": "3.11.3"
  }
 },
 "nbformat": 4,
 "nbformat_minor": 2
}
